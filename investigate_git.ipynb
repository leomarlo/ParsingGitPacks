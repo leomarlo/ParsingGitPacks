{
 "cells": [
  {
   "cell_type": "markdown",
   "metadata": {},
   "source": [
    "# Git Playground"
   ]
  },
  {
   "cell_type": "code",
   "execution_count": null,
   "metadata": {},
   "outputs": [],
   "source": [
    "# import zlib\n",
    "import os\n",
    "from script.git import Git"
   ]
  },
  {
   "cell_type": "code",
   "execution_count": null,
   "metadata": {},
   "outputs": [],
   "source": [
    "newGit = Git(testFileName='test.txt')\n",
    "newGit.setup_repo_with_single_commit(content=newGit.testContent)\n",
    "newGit.git_clone().wait()"
   ]
  },
  {
   "cell_type": "markdown",
   "metadata": {},
   "source": [
    "## Parsing the Index and Packfiles"
   ]
  },
  {
   "cell_type": "code",
   "execution_count": null,
   "metadata": {},
   "outputs": [],
   "source": [
    "for pack, pathes in newGit.get_index_and_packfile_pathes().items():\n",
    "    print(pack)\n",
    "    indexInfo = newGit.get_info_from_index(path=pathes[\"idx\"])\n",
    "    print(indexInfo)"
   ]
  }
 ],
 "metadata": {
  "interpreter": {
   "hash": "ce5d0d2e4cc4a5a4c2227dcbf8ec8f3924038cab3ef7451b7b92945a145a2d47"
  },
  "kernelspec": {
   "display_name": "Python 3.8.10 64-bit ('.venv': venv)",
   "language": "python",
   "name": "python3"
  },
  "language_info": {
   "codemirror_mode": {
    "name": "ipython",
    "version": 3
   },
   "file_extension": ".py",
   "mimetype": "text/x-python",
   "name": "python",
   "nbconvert_exporter": "python",
   "pygments_lexer": "ipython3",
   "version": "3.8.10"
  },
  "orig_nbformat": 4
 },
 "nbformat": 4,
 "nbformat_minor": 2
}
